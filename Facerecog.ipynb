{
 "cells": [
  {
   "cell_type": "code",
   "execution_count": 5,
   "metadata": {},
   "outputs": [],
   "source": [
    "# importing libraries\n",
    "from facenet_pytorch import MTCNN, InceptionResnetV1\n",
    "import torch\n",
    "from torchvision import datasets\n",
    "from torch.utils.data import DataLoader\n",
    "from PIL import Image\n",
    "import cv2\n",
    "import time\n",
    "import os"
   ]
  },
  {
   "cell_type": "code",
   "execution_count": 6,
   "metadata": {},
   "outputs": [],
   "source": [
    "#Initialising MTCNN and InceptionResnetV1\n",
    "mtcnnfalse=MTCNN(image_size=240,margin=0,keep_all=False,min_face_size=40)\n",
    "mtcnn=MTCNN(image_size=240,margin=0,keep_all=True,min_face_size=40)\n",
    "resnet=InceptionResnetV1(pretrained='vggface2').eval()"
   ]
  },
  {
   "cell_type": "code",
   "execution_count": 7,
   "metadata": {},
   "outputs": [],
   "source": [
    "# Read data from folder\n",
    "\n",
    "dataset = datasets.ImageFolder('photos') # photos folder path \n",
    "idx_to_class = {i:c for c,i in dataset.class_to_idx.items()} # accessing names of peoples from folder names\n",
    "\n",
    "def collate_fn(x):\n",
    "    return x[0]\n",
    "\n",
    "loader = DataLoader(dataset, collate_fn=collate_fn)\n",
    "\n",
    "name_list = [] # list of names corrospoing to cropped photos\n",
    "embedding_list = [] # list of embeding matrix after conversion from cropped faces to embedding matrix using resnet\n",
    "\n",
    "for img, idx in loader:\n",
    "    face, prob = mtcnnfalse(img, return_prob=True) \n",
    "    if face is not None and prob>0.92:\n",
    "        emb = resnet(face.unsqueeze(0)) \n",
    "        embedding_list.append(emb.detach()) \n",
    "        name_list.append(idx_to_class[idx])        \n",
    "\n",
    "# save data\n",
    "data = [embedding_list, name_list] \n",
    "torch.save(data, 'data.pt') # saving data.pt file"
   ]
  },
  {
   "cell_type": "code",
   "execution_count": 8,
   "metadata": {},
   "outputs": [
    {
     "name": "stdout",
     "output_type": "stream",
     "text": [
      "Enter your name:\n",
      "Saved: photos/fsdfdsf/1696153110.jpg\n",
      "Esc pressed, closing...\n"
     ]
    }
   ],
   "source": [
    "# Loading data.pt file\n",
    "load_data = torch.load('data.pt')\n",
    "embedding_list = load_data[0]\n",
    "name_list = load_data[1]\n",
    "\n",
    "cam = cv2.VideoCapture(0)\n",
    "\n",
    "while True:\n",
    "    ret, frame = cam.read()\n",
    "    if not ret:\n",
    "        print(\"Failed to grab Frame! Please try again\")\n",
    "        break\n",
    "\n",
    "    img = Image.fromarray(frame)\n",
    "    img_cropped_list, prob_list = mtcnn(img, return_prob=True)\n",
    "    if img_cropped_list is not None:\n",
    "        boxes, _ = mtcnn.detect(img)\n",
    "        for i, prob in enumerate(prob_list):\n",
    "            if prob > 0.90:\n",
    "                emb = resnet(img_cropped_list[i].unsqueeze(0)).detach()\n",
    "\n",
    "                dist_list = []  # List of matched distances, minimum distance is used to identify the person\n",
    "\n",
    "                for idx, emb_db in enumerate(embedding_list):\n",
    "                    dist = torch.dist(emb, emb_db).item()\n",
    "                    dist_list.append(dist)\n",
    "\n",
    "                min_dist = min(dist_list)  # Get minimum dist value\n",
    "                min_dist_idx = dist_list.index(min_dist)  # Get minimum dist index\n",
    "                name = name_list[min_dist_idx]  # Get name corresponding to minimum dist\n",
    "\n",
    "                box = boxes[i]\n",
    "\n",
    "                original_frame = frame.copy()  # Storing a copy of the frame before drawing on it\n",
    "\n",
    "                if min_dist < 0.90:\n",
    "                    frame = cv2.putText(frame, name + ' ' + str(min_dist), (int(box[0]), int(box[1])), cv2.FONT_HERSHEY_SIMPLEX, 1,\n",
    "                                        (0, 255, 0), 1, cv2.LINE_AA)\n",
    "\n",
    "                frame = cv2.rectangle(frame, (int(box[0]), int(box[1])), (int(box[2]), int(box[3])), (255, 0, 0), 2)\n",
    "    cv2.imshow(\"Face Detection\", frame)\n",
    "\n",
    "    k = cv2.waitKey(1)\n",
    "    if k % 256 == 27:  # ESC\n",
    "        print('Esc pressed, closing...')\n",
    "        break\n",
    "\n",
    "    elif k % 256 == 32:  # Space to save image\n",
    "        print('Enter your name:')\n",
    "        name = input()\n",
    "\n",
    "        # Create a directory if not exists\n",
    "        if not os.path.exists('photos/' + name):\n",
    "            os.mkdir('photos/' + name)\n",
    "\n",
    "        img_name = \"photos/{}/{}.jpg\".format(name, int(time.time()))\n",
    "        cv2.imwrite(img_name, original_frame)\n",
    "        print(\"Saved: {}\".format(img_name))\n",
    "\n",
    "cam.release()\n",
    "cv2.destroyAllWindows()"
   ]
  }
 ],
 "metadata": {
  "kernelspec": {
   "display_name": "base",
   "language": "python",
   "name": "python3"
  },
  "language_info": {
   "codemirror_mode": {
    "name": "ipython",
    "version": 3
   },
   "file_extension": ".py",
   "mimetype": "text/x-python",
   "name": "python",
   "nbconvert_exporter": "python",
   "pygments_lexer": "ipython3",
   "version": "3.11.3"
  },
  "orig_nbformat": 4
 },
 "nbformat": 4,
 "nbformat_minor": 2
}
